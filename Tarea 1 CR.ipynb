{
 "cells": [
  {
   "cell_type": "markdown",
   "metadata": {},
   "source": [
    "# Tarea 1 Ciencia de Redes\n",
    "### Alumno Erik Juárez Guerrero\n",
    "\n",
    "# Funciones utilizadas\n",
    "Los funciones se describen detallamente en el docstring de cada una.\n",
    "\n",
    "## numero_nodos(red)\n",
    "Es una función que regresa el número de nodos de una red."
   ]
  },
  {
   "cell_type": "code",
   "execution_count": 3,
   "metadata": {},
   "outputs": [],
   "source": [
    "def numero_nodos(red): \n",
    "    \"\"\"\n",
    "    Resibe una red y regresa el numero de nodos de ella.    \n",
    "\n",
    "    Parámetros\n",
    "    ----------\n",
    "    red : TIPO. diccionario\n",
    "          DESCRIPCIÓN. Las claves representan los nodos y los valores son \n",
    "          conjuntos de los nodos conectados.\n",
    "          \n",
    "    Excepción\n",
    "    ---------\n",
    "    TypeError\n",
    "        DESCRIPCIÓN. Cuando no recibe un diccionario como paramátro.\n",
    "\n",
    "    Regresa\n",
    "    -------\n",
    "    rv : TIPO. entero\n",
    "         DESCRIPCIÓN. El número de nodos de la red.\n",
    "\n",
    "    \"\"\"\n",
    "\n",
    "    # valida el paramtro que recice la función, puede causar una excepción\n",
    "    if type(red) is not dict:\n",
    "        raise TypeError(\"El parámetro que recive numero_nodos() tiene que ser un diccionario\")\n",
    "    \n",
    "    rv = len(red)\n",
    "    return rv"
   ]
  },
  {
   "cell_type": "markdown",
   "metadata": {},
   "source": [
    "## calcula_grados(red)\n",
    "Es una función que regresa un diccionario de Pyhton con el grado de los nodos de una red."
   ]
  },
  {
   "cell_type": "code",
   "execution_count": 4,
   "metadata": {},
   "outputs": [],
   "source": [
    "def calcula_grados(red):\n",
    "    \"\"\"\n",
    "    Resibe una red y regresa un diccionario con los grados de cada nodo.\n",
    "\n",
    "    Parámetros\n",
    "    ----------\n",
    "    red : TIPO. diccionario\n",
    "          DESCRIPCIÓN. Las claves representan los nodos y los valores son \n",
    "          conjuntos de los nodos conectados.\n",
    "          \n",
    "    Excepción\n",
    "    ---------\n",
    "    TypeError\n",
    "        DESCRIPCIÓN. Cuando no resibe un diccionario como paramátro.\n",
    "    \n",
    "    Regresa\n",
    "    -------\n",
    "    rv : TIPO. diccionario\n",
    "         DESCRIPCIÓN. Las llaves representasn los nodos de la red y los \n",
    "         valores son el grado de entrada del nodo.\n",
    "\n",
    "    \"\"\"\n",
    "    \n",
    "    # valida el paramtro que recice la función, puede causar una excepción\n",
    "    if type(red) is not dict:\n",
    "        raise TypeError(\"El parámetro que recive numero_nodos() tiene que ser un diccionario\")\n",
    "    \n",
    "    # Construlle un diccionario verificando el grado de los nodos de la red\n",
    "    rv = { }\n",
    "    for k, v in red.items():\n",
    "        rv[k] = len(v)\n",
    "    return rv"
   ]
  },
  {
   "cell_type": "markdown",
   "metadata": {},
   "source": [
    "## grado_maximo(red)\n",
    "Es una función que regresa el grado máximo de una red."
   ]
  },
  {
   "cell_type": "code",
   "execution_count": 5,
   "metadata": {},
   "outputs": [],
   "source": [
    "def grado_maximo(red):\n",
    "    \"\"\"\n",
    "    Resibe una red y regresa el grado máximo de ella.\n",
    "\n",
    "    Parámetros\n",
    "    ----------\n",
    "    red : TIPO. diccionario\n",
    "          DESCRIPCIÓN. Las claves representan los nodos y los valores son \n",
    "          conjunto de los nodos conectados.\n",
    "          \n",
    "    Excepción\n",
    "    ---------\n",
    "    TypeError\n",
    "        DESCRIPCIÓN. Cuando no resibe un diccionario como paramátro.\n",
    "    \n",
    "    Regreas\n",
    "    -------\n",
    "    rv : TIPO. entero\n",
    "         DESCRIPCIÓN. El grado máxímo de la red\n",
    "    \"\"\"\n",
    "    # TODO: optimisar la función ?\n",
    "    \n",
    "    # valida el paramtro que recice la función, puede causar una excepción\n",
    "    if type(red) is not dict:\n",
    "        raise TypeError(\"el parámetro que recive numero_nodos() tiene que ser un diccionario\")\n",
    " \n",
    "    # obtiene un diccionario con los grados de cada nodo\n",
    "    d = calcula_grados(red)\n",
    "    \n",
    "    # busca en los valores del diccionario que valor es el máximo\n",
    "    rv = max(d.values())   \n",
    "    return rv"
   ]
  },
  {
   "cell_type": "markdown",
   "metadata": {},
   "source": [
    "# Datos\n",
    "Esta es la red que se usa en esta tarea. es una red de amistades. 10 personas que en un principio no se conocia y al final de un periodo forman lazos de amistad. En este diccionario de Python se representan esos lazos."
   ]
  },
  {
   "cell_type": "code",
   "execution_count": 6,
   "metadata": {},
   "outputs": [],
   "source": [
    "amistades = {'Alicia':{'Beto','Carlos','Carmen','David','Mónica'},\n",
    "             'Beto':{'Alicia','Jorge'},\n",
    "             'Carlos':{'Alicia','David','Mónica'},\n",
    "             'Carmen':{'Alicia','Mónica'},\n",
    "             'David':{'Alicia','Carlos'},\n",
    "             'Enrique':{'Iren','Jorge','Rosa'},\n",
    "             'Jorge':{'Beto','Enrique','Irene','Rosa'},\n",
    "             'Irene':{'Enrique','Jorge','Rosa'},\n",
    "             'Mónica':{'Alicia','Carlos','Carmen'},\n",
    "             'Rosa':{'Enrique','Irene','Jorge'}}"
   ]
  },
  {
   "cell_type": "markdown",
   "metadata": {},
   "source": [
    "# Ejecución\n",
    "Uso de las funciones programadas."
   ]
  },
  {
   "cell_type": "code",
   "execution_count": 7,
   "metadata": {},
   "outputs": [
    {
     "name": "stdout",
     "output_type": "stream",
     "text": [
      "10\n"
     ]
    }
   ],
   "source": [
    "print(numero_nodos(amistades))\n",
    "\n"
   ]
  },
  {
   "cell_type": "markdown",
   "metadata": {},
   "source": [
    "El 10 corresponde a los nodos que representan las 10 personas. "
   ]
  },
  {
   "cell_type": "code",
   "execution_count": 8,
   "metadata": {},
   "outputs": [
    {
     "name": "stdout",
     "output_type": "stream",
     "text": [
      "{'Alicia': 5, 'Beto': 2, 'Carlos': 3, 'Carmen': 2, 'David': 2, 'Enrique': 3, 'Jorge': 4, 'Irene': 3, 'Mónica': 3, 'Rosa': 3}\n"
     ]
    }
   ],
   "source": [
    "print(calcula_grados(amistades))"
   ]
  },
  {
   "cell_type": "markdown",
   "metadata": {},
   "source": [
    "El diccionario que se obitene indica con cuntas personas se relaciona amistozamente cada miembro de la red. "
   ]
  },
  {
   "cell_type": "code",
   "execution_count": 9,
   "metadata": {},
   "outputs": [
    {
     "name": "stdout",
     "output_type": "stream",
     "text": [
      "5\n"
     ]
    }
   ],
   "source": [
    "print(grado_maximo(amistades))"
   ]
  },
  {
   "cell_type": "markdown",
   "metadata": {},
   "source": [
    "El 5 indica cual es el numero máximo de relaciones de amistad en esta red."
   ]
  }
 ],
 "metadata": {
  "kernelspec": {
   "display_name": "Python 3",
   "language": "python",
   "name": "python3"
  },
  "language_info": {
   "codemirror_mode": {
    "name": "ipython",
    "version": 3
   },
   "file_extension": ".py",
   "mimetype": "text/x-python",
   "name": "python",
   "nbconvert_exporter": "python",
   "pygments_lexer": "ipython3",
   "version": "3.6.10"
  }
 },
 "nbformat": 4,
 "nbformat_minor": 4
}
