{
 "cells": [
  {
   "cell_type": "markdown",
   "metadata": {},
   "source": [
    "# Práctica 1\n",
    "## Erik Juárez Guerrero "
   ]
  },
  {
   "cell_type": "markdown",
   "metadata": {},
   "source": [
    "# Parte 1 - Funciones\n",
    "La descripción detallada de cada funciones se encuentra en su docstring.\n",
    "\n",
    "## crea_un_grafo_completo()\n",
    "Esta funcón recibe un número entero y regresa una diccionario que representa un grafo, sus llaves son los nodos y los valores son conjuntos de nodos adyasentes. El grafo que se regresa es del tipo K_n es decir cada nodo es ayacente con el resto. "
   ]
  },
  {
   "cell_type": "code",
   "execution_count": 2,
   "metadata": {},
   "outputs": [],
   "source": [
    "def crea_un_grafo_completo(n):\n",
    "    \"\"\"\n",
    "    Resibe un número entero para regresar un grafo del tipo K_n.\n",
    "    (todos los nodos estan relacionados entre ellos.)\n",
    "\n",
    "    Parámetros\n",
    "    ----------\n",
    "    n : TIPO. entero mayor a cero\n",
    "        DESCRIPCIÓN. Es el número de nodos del grafo.\n",
    "\n",
    "    Excepción\n",
    "    ---------\n",
    "    TypeError\n",
    "        DESCRIPCIÓN. Caundo no se pasa un entero por parámetro.\n",
    "    ValueError\n",
    "        DESCRIPCIÓN. Cuando el entero no es mayor a cero.\n",
    "\n",
    "    Valor de retorno\n",
    "    ----------------\n",
    "    k_n : TIPO. diccionario\n",
    "        DESCRIPCiÓN. Grafo K_n es un diccionario cuyos valores son conjuntos\n",
    "        que representan los enlaces a otros nodos, cada elementp del conjunto\n",
    "        es un nodo relacionado.\n",
    "\n",
    "    \"\"\"\n",
    "    \n",
    "    # validación del parámetro de entrada\n",
    "    if type(n) is not int:\n",
    "        raise TypeError(\"el parámetro que recive crea_un_grafo_completo() tiene que ser un entero positivo.\")\n",
    "    if n < 1:\n",
    "        raise ValueError(\"el parámetro que recive crea_un_grafo_completo() tiene que ser mayot a cero.\")\n",
    "        \n",
    "    # el grafo vacío\n",
    "    k_n = { }\n",
    "   \n",
    "    # contrucción del grafo\n",
    "    for i in range(n):\n",
    "        \n",
    "        # conjunto de nodos vacío, es el valor que se gurdará en la clave i \n",
    "        # en el diccionario\n",
    "        ady = set()\n",
    "        \n",
    "        # se contruye el conjunto de nodos adyasentes\n",
    "        for j in range(n):\n",
    "            if i != j:\n",
    "                ady.add(j)\n",
    "        k_n[i] = ady\n",
    "    \n",
    "    return k_n"
   ]
  },
  {
   "cell_type": "markdown",
   "metadata": {},
   "source": [
    "## calcula_grados_de_entrada()\n",
    "Esta función recibe un diccionario que representa una gráfica dirigida, regresa un diccionario cuyas llaves son los nodos del grafo y sus valores los grados de entrada de los nodos."
   ]
  },
  {
   "cell_type": "code",
   "execution_count": 3,
   "metadata": {},
   "outputs": [],
   "source": [
    "def calcula_grados_de_entrada(d_grafica):\n",
    "    \"\"\"\n",
    "    Recibe un diccionario que representa una gráfica dirigida y regresa un \n",
    "    diccionario donde sus llaves son los nodos de la gráfica y los valores son\n",
    "    el grado de entrada de ese nodo.\n",
    "\n",
    "    Parámetros\n",
    "    ----------\n",
    "    d_grafica : TIPO. diccionario\n",
    "        DESCRIPCIÓN. Gráfica dirigida, las claves representan los nodos y los \n",
    "        valores son conjunto de los nodos a los que se conectan.\n",
    "\n",
    "    Excepción\n",
    "    ---------\n",
    "    TypeError\n",
    "        DESCRIPCIÓN. Cuando no resive un diccionario como parámetro.\n",
    "\n",
    "    Valor de retorno\n",
    "    ----------------\n",
    "    deg_in : TIPO. diccionario\n",
    "        DESCRIPCIÓN. Las llaves de este diccionario son nodos y sus valores\n",
    "        son entero que indican el grado de entrada de los nodos.\n",
    "\n",
    "    \"\"\"\n",
    "    \n",
    "    # validación del parámetro de entrada\n",
    "    if type(d_grafica) is not dict:\n",
    "        raise TypeError(\"el parámetro que recive calcula_grados_de_entrada() tiene que ser un diccionario.\")\n",
    "        \n",
    "    # valor de retorno es diccionario vacío\n",
    "    deg_in = { }\n",
    "    \n",
    "    # contrucón de la tabla   \n",
    "    for k in d_grafica.keys():\n",
    "        k_deg = 0\n",
    "        \n",
    "        # verifica que nodos se enlazan al nodo que recorre actualmente\n",
    "        for v in d_grafica.values():\n",
    "            ady = list(v)\n",
    "            k_deg += ady.count(k)\n",
    "            \n",
    "        deg_in[k] = k_deg\n",
    "        \n",
    "        \n",
    "    return deg_in"
   ]
  },
  {
   "cell_type": "markdown",
   "metadata": {},
   "source": [
    "## dist_grados_de_entrada()\n",
    "Esta funcón recibe un diccionario que representa una gráfica dirigida, y regresa otro diccionario con la distribución donde sus llaves son los grados de entrada y los valoes son la cantidad de esos grados que se encuentran en la gráfica dirigida."
   ]
  },
  {
   "cell_type": "code",
   "execution_count": 4,
   "metadata": {},
   "outputs": [],
   "source": [
    "def dist_grados_de_entrada(d_grafica):\n",
    "    \"\"\"\n",
    "    Recibe un diccionario que representa una gráfica dirigida y regresa un \n",
    "    diccionario donde sus llaves son los grados de salida de la gráfica y los \n",
    "    valores son la frecuencia de los grados de entrada.\n",
    "\n",
    "    Parámetros\n",
    "    ----------\n",
    "    d_grafica : TIPO. diccionario\n",
    "        DESCRIPCIÓN. Gráfica dirigida, las claves representan los nodos y los \n",
    "        valores son conjunto de los nodos a los que se conectan.\n",
    "\n",
    "    Excepción\n",
    "    ---------\n",
    "    TypeError\n",
    "        DESCRIPCIÓN. Cuando no resive un diccionario como parámetro.\n",
    "\n",
    "    Valor de retorno\n",
    "    ----------------\n",
    "    distr : TIPO. diccionario\n",
    "            DESCRIPCIÓN. Las llaves de este diccionario son grados de salida y \n",
    "            sus valores son entero que indican la frecuencia de los grados de \n",
    "            entrada.\n",
    "    \"\"\"\n",
    "    # TODO: ¿es posible optimisar? \n",
    "    \n",
    "    # validación del parámetro de entrada\n",
    "    if type(d_grafica) is not dict:\n",
    "        raise TypeError(\"el parámetro que recive dist_grados_de_entrada() tiene que ser un diccionario.\")\n",
    "\n",
    "    # obtiene la lista de los grados de entrada\n",
    "    deg_in = list(calcula_grados_de_entrada(d_grafica).values())\n",
    "    \n",
    "    # umbral de grados a buscar en la lista\n",
    "    deg_max = max(deg_in)\n",
    "    \n",
    "    # el valor de retorno es un diccionario vacío donde se gurdaran los datos\n",
    "    distr = { }\n",
    "    \n",
    "    # recorre la lista para crear una tabla de distribución\n",
    "    for i in range(deg_max + 1):\n",
    "        \n",
    "        # cuenta cuantos veces se encuentra el grado actual en la lista\n",
    "        deg_count = deg_in.count(i)\n",
    "        \n",
    "        # TODO ¿Es necesario omitir los que son cero?\n",
    "        # se resuelve agregando:\n",
    "        # if deg_count != 0:\n",
    "        distr[i] = deg_count\n",
    "    \n",
    "    return distr"
   ]
  },
  {
   "cell_type": "markdown",
   "metadata": {},
   "source": [
    "## dist_norm_entrada()\n",
    "Esta función recibe un diccionario que representa una gráfica dirigida y regresa un diccionario donde sus llaves son los grados de entrada de la gráfica y los valores son la frecuencia normalizada de los grados de entrada."
   ]
  },
  {
   "cell_type": "code",
   "execution_count": 5,
   "metadata": {},
   "outputs": [],
   "source": [
    "def dist_normalizada_entrada(d_grafica):\n",
    "    \"\"\"\n",
    "    Recibe un diccionario que representa una gráfica dirigida y regresa un \n",
    "    diccionario donde sus llaves son los grados de entrada de la gráfica y los \n",
    "    valores son la frecuencia normalizada de los grados de entrada.\n",
    "\n",
    "    Parámetros\n",
    "    ----------\n",
    "    d_grafica : TIPO. diccionario\n",
    "        DESCRIPCIÓN. Gráfica dirigida, las claves representan los nodos y los \n",
    "        valores son conjunto de los nodos a los que se conectan.\n",
    "\n",
    "    Excepción\n",
    "    ---------\n",
    "    TypeError\n",
    "        DESCRIPCIÓN. Cuando no resive un diccionario como parámetro.\n",
    "\n",
    "    Valor de retorno\n",
    "    ----------------\n",
    "    distr_norm : TIPO. diccionario\n",
    "        DESCRIPCIÓN. Las llaves de este diccionario son grados de entrada y sus \n",
    "        valores son flotantes que indican la frecuencia normalizada de los \n",
    "        grados de entrada.\n",
    "    \"\"\"\n",
    "    \n",
    "    # validación del parámetro de entrada\n",
    "    if type(d_grafica) is not dict:\n",
    "        raise TypeError(\"el parámetro que recive dist_normalizada_entrada() tiene que ser un diccionario.\")\n",
    "\n",
    "    # distribución de los grados de entrada\n",
    "    dist_in = dist_grados_de_entrada(d_grafica)\n",
    "    total = sum(list(dist_in.values()))\n",
    "    \n",
    "    # el valor de retorno es un diccionario vacío donde se gurdaran los datos\n",
    "    distr_norm = { }\n",
    "    \n",
    "    # se recorre el diccionario de distribución para crear un diccionario con\n",
    "    # la distrubución normalizada \n",
    "    for k, v in dist_in.items():\n",
    "        deg_in_norm = v/total\n",
    "        distr_norm[k] = deg_in_norm\n",
    "    \n",
    "    return distr_norm"
   ]
  },
  {
   "cell_type": "markdown",
   "metadata": {},
   "source": [
    "Se importa la libreria matplotlib que es útil para renderizar gráficas."
   ]
  },
  {
   "cell_type": "code",
   "execution_count": 6,
   "metadata": {},
   "outputs": [],
   "source": [
    "import matplotlib.pyplot as plt"
   ]
  },
  {
   "cell_type": "markdown",
   "metadata": {},
   "source": [
    "## grafita_distr_entrada()\n",
    "Esta función recibe un diccionario que contenga la distrubución de los grados de entrada de un grafo Renderiza una figura con la gráfica de la distribución."
   ]
  },
  {
   "cell_type": "code",
   "execution_count": 7,
   "metadata": {},
   "outputs": [],
   "source": [
    "def grafica_distr_entrada(distr):\n",
    "    \"\"\"\n",
    "    Recibe un diccionario que contenga la distrubución de los grados de \n",
    "    entrada de un grafo. Renderiza una figura con la gráfica de la \n",
    "    distribución.\n",
    "\n",
    "    Parámetros\n",
    "    ----------\n",
    "    distr : dicccionario\n",
    "        DESCRIPCIÓN. El diccionario contiene como valores la distrubución de \n",
    "        los grados de entrada nodales(enteros) de un gráfica dirigida.\n",
    "\n",
    "    Excepción\n",
    "    ---------\n",
    "    TypeError\n",
    "        DESCRIPCIÓN. Cuando no resive un diccionario como parámetro.\n",
    "\n",
    "    Returns\n",
    "    -------\n",
    "    None.\n",
    "        Se muestra la figura, pero el valor de retorno es None.\n",
    "    \"\"\"\n",
    "    \n",
    "    # validación del parámetro de entrada\n",
    "    if type(distr) is not dict:\n",
    "        raise TypeError(\"el parámetro que recive grafica_distr_entrada() tiene que ser un diccionario.\")\n",
    "    \n",
    "    valores_x = list(distr.keys())\n",
    "    valores_y = list(distr.values())\n",
    "    \n",
    "    plt.plot(valores_x, valores_y, marker='o')\n",
    "    plt.xlabel(\"Grado nodal\")\n",
    "    plt.ylabel(\"Número de nodos\")\n",
    "    plt.title(\"Distribución de grados de entrada\")\n",
    "    # plt.show()\n",
    "    return"
   ]
  },
  {
   "cell_type": "markdown",
   "metadata": {},
   "source": [
    "## grafica_distr_norm_entrada()\n",
    "Esta función recibe un diccionario que contenga la distrubución normalizada de los grados de entrada de un grafo Renderiza una figura con la gráfica de la distribución normalizada."
   ]
  },
  {
   "cell_type": "code",
   "execution_count": 8,
   "metadata": {},
   "outputs": [],
   "source": [
    "def grafica_distr_norm_entrada(distr_norm):\n",
    "    \"\"\"\n",
    "    Recibe un diccionario que contenga la distrubución normalizada de los \n",
    "    grados de entrada de un grafo Renderiza una figura con la gráfica de la\n",
    "    distribución normalizada.\n",
    "\n",
    "    Parámetros\n",
    "    ----------\n",
    "    distr : dicccionario\n",
    "        DESCRIPCIÓN. El diccionario contiene como valores la distrubución \n",
    "        normalizada de los grados de entrada nodales(flotantes) de un gráfica \n",
    "        dirigida.\n",
    "\n",
    "    Excepción\n",
    "    ---------\n",
    "    TypeError\n",
    "        DESCRIPCIÓN. Cuando no resive un diccionario como parámetro.\n",
    "\n",
    "    Returns\n",
    "    -------\n",
    "    None.\n",
    "        Se muestra la figura, pero el valor de retorno es None.\n",
    "    \"\"\"\n",
    "    \n",
    "    # validación del parámetro de entrada\n",
    "    if type(distr_norm) is not dict:\n",
    "        raise TypeError(\"el parámetro que recive grafica_distr_norm_entrada() tiene que ser un diccionario.\")\n",
    "        \n",
    "    valores_x = list(distr_norm.keys())\n",
    "    valores_y = list(distr_norm.values())\n",
    "    \n",
    "    plt.plot(valores_x, valores_y, marker='o')\n",
    "    plt.xlabel(\"Grado nodal\")\n",
    "    plt.ylabel(\"Número de nodos\")\n",
    "    plt.title(\"Distribución Normalizada de grados de entrada\")\n",
    "    # plt.show()\n",
    "    \n",
    "    return"
   ]
  },
  {
   "cell_type": "markdown",
   "metadata": {},
   "source": [
    "# Segunda parte - Datos\n",
    "se crea este diccionario que representa la gráfica que se muestra en el documento de la práctica."
   ]
  },
  {
   "cell_type": "code",
   "execution_count": 9,
   "metadata": {},
   "outputs": [],
   "source": [
    "graf1 = {1: {2}, 2: {4}, 3: {2}, 4: {1, 3, 5}, 5: {2, 4, 6}, 6: {1}}"
   ]
  },
  {
   "cell_type": "markdown",
   "metadata": {},
   "source": [
    "# Tercera parte - Ejecución\n",
    "Se utilizan las funciones para mostrar las gráficas de distribución de entrada y distribución normalizada de grados de entrada."
   ]
  },
  {
   "cell_type": "code",
   "execution_count": 10,
   "metadata": {},
   "outputs": [
    {
     "data": {
      "image/png": "[encoded data removed]",
      "text/plain": [
       "<Figure size 432x288 with 1 Axes>"
      ]
     },
     "metadata": {
      "needs_background": "light"
     },
     "output_type": "display_data"
    }
   ],
   "source": [
    "graf1_distr = dist_grados_de_entrada(graf1)\n",
    "grafica_distr_entrada(graf1_distr)"
   ]
  },
  {
   "cell_type": "code",
   "execution_count": 11,
   "metadata": {},
   "outputs": [
    {
     "data": {
      "image/png": "[encoded data removed]",
      "text/plain": [
       "<Figure size 432x288 with 1 Axes>"
      ]
     },
     "metadata": {
      "needs_background": "light"
     },
     "output_type": "display_data"
    }
   ],
   "source": [
    "graf1_distr_norm = dist_normalizada_entrada(graf1)\n",
    "grafica_distr_norm_entrada(graf1_distr_norm)"
   ]
  },
  {
   "cell_type": "markdown",
   "metadata": {},
   "source": [
    "# Apéndice 'A' - Funciones Extras\n",
    "Se desarrollaron las funcones que corresponden a los grados de salida, no forman parte de la práctica pero se añadieron por considerarse útiles, se omite su documentación en el Notebook pero cuentan con útiles docstrings y comentarios\n",
    "\n",
    "## calcula_grados de salida()"
   ]
  },
  {
   "cell_type": "code",
   "execution_count": 12,
   "metadata": {},
   "outputs": [],
   "source": [
    "def calcula_grados_de_salida(d_grafica):\n",
    "    \"\"\"\n",
    "    Recibe un diccionario que representa una gráfica dirigida y regresa un \n",
    "    diccionario donde sus llaves son los nodos de la gráfica y los valores son\n",
    "    el grado de salida de ese nodo.\n",
    "\n",
    "    Parámetros\n",
    "    ----------\n",
    "    d_grafica : TIPO. diccionario\n",
    "        DESCRIPCIÓN. Gráfica dirigida, las claves representan los nodos y los \n",
    "        valores son conjunto de los nodos a los que se conectan.\n",
    "\n",
    "    Excepción\n",
    "    ---------\n",
    "    TypeError\n",
    "        DESCRIPCIÓN. Cuando no resive un diccionario como parámetro.\n",
    "\n",
    "    Valor de retorno\n",
    "    ----------------\n",
    "    deg_out : TIPO. diccionario\n",
    "        DESCRIPCIÓN. Las llaves de este diccionario son nodos y sus valores\n",
    "        son entero que indican el grado de salida de los nodos.\n",
    "\n",
    "    \"\"\"\n",
    "    \n",
    "    # validación del parámetro de entrada\n",
    "    if type(d_grafica) is not dict:\n",
    "        raise TypeError(\"el parámetro que recive calcula_grados_de_salida() tiene que ser un diccionario.\")\n",
    "        \n",
    "    # el valor de retorno es un diccionario vacío donde se gurdaran los datos\n",
    "    deg_out = { }\n",
    "        \n",
    "    # contrucón de la tabla   \n",
    "    for k, v in d_grafica.items():\n",
    "        \n",
    "        # verificacada a cuantos nodos se enlaza al nodo que recorre actualmente\n",
    "        deg_out[k] = len(v)\n",
    "        \n",
    "    return deg_out"
   ]
  },
  {
   "cell_type": "markdown",
   "metadata": {},
   "source": [
    "## dist_grados_de_salida()"
   ]
  },
  {
   "cell_type": "code",
   "execution_count": 13,
   "metadata": {},
   "outputs": [],
   "source": [
    "def dist_grados_de_salida(d_grafica):\n",
    "    \"\"\"\n",
    "    Recibe un diccionario que representa una gráfica dirigida y regresa un \n",
    "    diccionario donde sus llaves son los grados de salida de la gráfica y los \n",
    "    valores son la frecuencia de los grados de salida.\n",
    "\n",
    "    Parámetros\n",
    "    ----------\n",
    "    d_grafica : TIPO. diccionario\n",
    "        DESCRIPCIÓN. Gráfica dirigida, las claves representan los nodos y los \n",
    "        valores son conjunto de los nodos a los que se conectan.\n",
    "\n",
    "    Excepción\n",
    "    ---------\n",
    "    TypeError\n",
    "        DESCRIPCIÓN. Cuando no resive un diccionario como parámetro.\n",
    "\n",
    "    Valor de retorno\n",
    "    ----------------\n",
    "    distr : TIPO. diccionario\n",
    "        DESCRIPCIÓN. Las llaves de este diccionario son grados de salida y sus \n",
    "        val ores son entero que indican la frecuencia de los grados de salida.\n",
    "        \n",
    "    \"\"\"\n",
    "    # TODO: ¿es posible optimisar? \n",
    "    \n",
    "    # validación del parámetro de entrada\n",
    "    if type(d_grafica) is not dict:\n",
    "        raise TypeError(\"el parámetro que recive dist_grados_de_salida() tiene que ser un diccionario.\")\n",
    "\n",
    "    # obtiene la lista de los grados de entrada\n",
    "    deg_out = list(calcula_grados_de_salida(d_grafica).values())\n",
    "    \n",
    "    # umbral de grados a buscar en la lista\n",
    "    deg_max = max(deg_out) \n",
    "    \n",
    "    # el valor de retorno es un diccionario vacío donde se gurdaran los datos\n",
    "    distr = { }\n",
    "    \n",
    "    # recorre la lista para crear una tabla de distribución\n",
    "    for i in range(deg_max + 1):\n",
    "        \n",
    "        # cuenta cuantos veces se encuentra el grado actual en la lista\n",
    "        deg_count = deg_out.count(i)\n",
    "        \n",
    "        # TODO ¿Es necesario omitir los que son cero?\n",
    "        # se resuelve agregando:\n",
    "        # if deg_count != 0:\n",
    "        distr[i] = deg_count\n",
    "    \n",
    "    return distr"
   ]
  },
  {
   "cell_type": "markdown",
   "metadata": {},
   "source": [
    "## dist_normalizada_salida()"
   ]
  },
  {
   "cell_type": "code",
   "execution_count": 14,
   "metadata": {},
   "outputs": [],
   "source": [
    "def dist_normalizada_salida(d_grafica):\n",
    "    \"\"\"\n",
    "    Recibe un diccionario que representa una gráfica dirigida y regresa un \n",
    "    diccionario donde sus llaves son los grados de salida de la gráfica y los \n",
    "    valores son la frecuencia normalizada de los grados de salida.\n",
    "\n",
    "    Parámetros\n",
    "    ----------\n",
    "    d_grafica : TIPO. diccionario\n",
    "        DESCRIPCIÓN. Gráfica dirigida, las claves representan los nodos y los \n",
    "        valores son conjunto de los nodos a los que se conectan.\n",
    "\n",
    "    Excepción\n",
    "    ---------\n",
    "    TypeError\n",
    "        DESCRIPCIÓN. Cuando no resive un diccionario como parámetro.\n",
    "\n",
    "    Valor de retorno\n",
    "    ----------------\n",
    "    distr_norm : TIPO. diccionario\n",
    "        DESCRIPCIÓN. Las llaves de este diccionario son grados de salida y sus \n",
    "        valores son flotantes que indican la frecuencia normalizada de los \n",
    "        grados de salida.\n",
    "    \"\"\"\n",
    "    \n",
    "    # validación del parámetro de entrada\n",
    "    if type(d_grafica) is not dict:\n",
    "        raise TypeError(\"el parámetro que recive dist_normalizada_salida() tiene que ser un diccionario.\")\n",
    "\n",
    "    # distribución de los grados de salida\n",
    "    dist_out = dist_grados_de_salida(d_grafica)\n",
    "    total = sum(list(dist_out.values()))\n",
    "    \n",
    "    # el valor de retorno es un diccionario vacío donde se gurdaran los datos\n",
    "    distr_norm = { }\n",
    "    \n",
    "    # se recorre el diccionario de distribución para crear un diccionario con\n",
    "    # la distrubución normalizada \n",
    "    for k, v in dist_out.items():\n",
    "        deg_out_norm = v/total\n",
    "        distr_norm[k] = deg_out_norm\n",
    "    \n",
    "    return distr_norm"
   ]
  },
  {
   "cell_type": "markdown",
   "metadata": {},
   "source": [
    "## grafica_distr_salida()"
   ]
  },
  {
   "cell_type": "code",
   "execution_count": 15,
   "metadata": {},
   "outputs": [],
   "source": [
    "def grafica_distr_salida(distr):\n",
    "    \"\"\"\n",
    "    Recibe un diccionario que contenga la distrubución de los grados de salida \n",
    "    de un grafo. Renderiza una figura con la gráfica de la distribución.\n",
    "\n",
    "    Parámetros\n",
    "    ----------\n",
    "    distr : dicccionario\n",
    "        DESCRIPCIÓN. El diccionario contiene como valores la distrubución de \n",
    "        los grados de salida nodales(enteros) de un gráfica dirigida.\n",
    "\n",
    "    Excepción\n",
    "    ---------\n",
    "    TypeError\n",
    "        DESCRIPCIÓN. Cuando no resive un diccionario como parámetro.\n",
    "\n",
    "    Returns\n",
    "    -------\n",
    "    None.\n",
    "        Se muestra la figura, pero el valor de retorno es None.\n",
    "    \"\"\"\n",
    "    \n",
    "    # validación del parámetro de entrada\n",
    "    if type(distr) is not dict:\n",
    "        raise TypeError(\"el parámetro que recive grafica_distr_salida() tiene que ser un diccionario.\")\n",
    "    \n",
    "    valores_x = list(distr.keys())\n",
    "    valores_y = list(distr.values())\n",
    "    \n",
    "    plt.plot(valores_x, valores_y, marker='o')\n",
    "    plt.xlabel(\"Grado nodal\")\n",
    "    plt.ylabel(\"Número de nodos\")\n",
    "    plt.title(\"Distribución de grados de salida\")\n",
    "    # plt.show()\n",
    "    return"
   ]
  },
  {
   "cell_type": "markdown",
   "metadata": {},
   "source": [
    "## grafica_distr_nom_salida()"
   ]
  },
  {
   "cell_type": "code",
   "execution_count": 16,
   "metadata": {},
   "outputs": [],
   "source": [
    "def grafica_distr_norm_salida(distr_norm):\n",
    "    \"\"\"\n",
    "    Recibe un diccionario que contenga la distrubución normalizada de los \n",
    "    grados de salida de un grafo Renderiza una figura con la gráfica de la\n",
    "    distribución normalizada.\n",
    "\n",
    "    Parámetros\n",
    "    ----------\n",
    "    distr : dicccionario\n",
    "        DESCRIPCIÓN. El diccionario contiene como valores la distrubución \n",
    "        normalizada de los grados de salida nodales(flotantes) de un gráfica \n",
    "        dirigida.\n",
    "\n",
    "    Excepción\n",
    "    ---------\n",
    "    TypeError\n",
    "        DESCRIPCIÓN. Cuando no resive un diccionario como parámetro.\n",
    "\n",
    "    Returns\n",
    "    -------\n",
    "    None.\n",
    "        Se muestra la figura, pero el valor de retorno es None.\n",
    "    \"\"\"\n",
    "    \n",
    "    # validación del parámetro de entrada\n",
    "    if type(distr_norm) is not dict:\n",
    "        raise TypeError(\"el parámetro que recive grafica_distr_norm_salida() tiene que ser un diccionario.\")\n",
    "        \n",
    "    valores_x = list(distr_norm.keys())\n",
    "    valores_y = list(distr_norm.values())\n",
    "    \n",
    "    plt.plot(valores_x, valores_y, marker='o')\n",
    "    plt.xlabel(\"Grado nodal\")\n",
    "    plt.ylabel(\"Número de nodos\")\n",
    "    plt.title(\"Distribución Normalizada de grados de salida\")\n",
    "    # plt.show()\n",
    "    \n",
    "    return"
   ]
  },
  {
   "cell_type": "markdown",
   "metadata": {},
   "source": [
    "Ejecución de las fucnciones con los datos de la práctica"
   ]
  },
  {
   "cell_type": "code",
   "execution_count": 17,
   "metadata": {},
   "outputs": [
    {
     "data": {
      "image/png": "[encoded data removed]",
      "text/plain": [
       "<Figure size 432x288 with 1 Axes>"
      ]
     },
     "metadata": {
      "needs_background": "light"
     },
     "output_type": "display_data"
    }
   ],
   "source": [
    "graf1_distr = dist_grados_de_salida(graf1)\n",
    "grafica_distr_salida(graf1_distr)"
   ]
  },
  {
   "cell_type": "code",
   "execution_count": 18,
   "metadata": {},
   "outputs": [
    {
     "data": {
      "image/png": "[encoded data removed]",
      "text/plain": [
       "<Figure size 432x288 with 1 Axes>"
      ]
     },
     "metadata": {
      "needs_background": "light"
     },
     "output_type": "display_data"
    }
   ],
   "source": [
    "graf1_distr_norm = dist_normalizada_salida(graf1)\n",
    "grafica_distr_norm_salida(graf1_distr_norm)"
   ]
  }
 ],
 "metadata": {
  "kernelspec": {
   "display_name": "Python 3",
   "language": "python",
   "name": "python3"
  },
  "language_info": {
   "codemirror_mode": {
    "name": "ipython",
    "version": 3
   },
   "file_extension": ".py",
   "mimetype": "text/x-python",
   "name": "python",
   "nbconvert_exporter": "python",
   "pygments_lexer": "ipython3",
   "version": "3.6.10"
  }
 },
 "nbformat": 4,
 "nbformat_minor": 4
}
