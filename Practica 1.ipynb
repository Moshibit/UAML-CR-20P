{
 "cells": [
  {
   "cell_type": "code",
   "execution_count": 1,
   "metadata": {},
   "outputs": [],
   "source": [
    "def crea_un_grafo_completo(n):\n",
    "    \"\"\"\n",
    "    Resive un número entero para regresar un grafo del tipo K_n.\n",
    "    (todos los nodos estan relacionados entre ellos)\n",
    "\n",
    "    Parameters\n",
    "    ----------\n",
    "    n : TIPO. entero mayor a cero.\n",
    "        DESCRIPCIÓN. Es el número de nodos del grafo.\n",
    "\n",
    "    Excepción\n",
    "    ---------\n",
    "    TypeError\n",
    "        DESCRIPCIÓN. caundo no se pasa un entero por parametro.\n",
    "    ValueError\n",
    "        DESCRIPCIÓN. cuando el entero no es mayor a cero.\n",
    "\n",
    "    Valor de retorno\n",
    "    ----------------\n",
    "    rv : TIPO. diccionario.\n",
    "        DESCRIPCiÓN. Grafo K_n es un diccionario cuyos valores son conjuntos\n",
    "        que representan los enlaces a otros nodos.\n",
    "\n",
    "    \"\"\"\n",
    "    \n",
    "    # validación del parametro de entrada.\n",
    "    if type(n) is not int:\n",
    "        raise TypeError(\"El parámetro que recive crea_un_grafo_completo() tiene que ser un entero positivo\")\n",
    "    if n < 1:\n",
    "        raise ValueError(\"El parámetro que recive crea_un_grafo_completo() tiene que ser mayor a cero\")\n",
    "        \n",
    "    # el grafo vacio.\n",
    "    rv = { }\n",
    "   \n",
    "    # contrucción del grafo.\n",
    "    for i in range(n):\n",
    "        \n",
    "        # conjunto de nodos vacio, es el valor que se gurdará en la clave i \n",
    "        # en el diccionario.\n",
    "        ady = set()\n",
    "        \n",
    "        # se contruye el conjunto de nodos adyasentes.\n",
    "        for j in range(n):\n",
    "            if i != j:\n",
    "                ady.add(j)\n",
    "        \n",
    "        rv[i] = ady\n",
    "    \n",
    "    return rv"
   ]
  },
  {
   "cell_type": "code",
   "execution_count": null,
   "metadata": {},
   "outputs": [],
   "source": []
  }
 ],
 "metadata": {
  "kernelspec": {
   "display_name": "Python 3",
   "language": "python",
   "name": "python3"
  },
  "language_info": {
   "codemirror_mode": {
    "name": "ipython",
    "version": 3
   },
   "file_extension": ".py",
   "mimetype": "text/x-python",
   "name": "python",
   "nbconvert_exporter": "python",
   "pygments_lexer": "ipython3",
   "version": "3.6.10"
  }
 },
 "nbformat": 4,
 "nbformat_minor": 4
}
